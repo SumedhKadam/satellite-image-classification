{
 "cells": [
  {
   "cell_type": "code",
   "execution_count": 1,
   "metadata": {},
   "outputs": [
    {
     "name": "stderr",
     "output_type": "stream",
     "text": [
      "C:\\Anaconda3\\envs\\sumedh\\lib\\site-packages\\PIL\\Image.py:2546: DecompressionBombWarning: Image size (120560400 pixels) exceeds limit of 89478485 pixels, could be decompression bomb DOS attack.\n",
      "  DecompressionBombWarning)\n"
     ]
    },
    {
     "name": "stdout",
     "output_type": "stream",
     "text": [
      "[-0.14089349  0.          0.22118375 -0.23513509  0.          0.\n",
      "  1.          0.        ]\n"
     ]
    }
   ],
   "source": [
    "import matplotlib.pyplot as plt\n",
    "%matplotlib inline\n",
    "from PIL import Image\n",
    "import numpy as np\n",
    "\n",
    "\n",
    "data = np.zeros((10980*10980,8))\n",
    "\n",
    "\n",
    "output = np.asarray(Image.open(r\"C:\\image processing\\brazil\\brazil bands\\output.tif\")).flatten()\n",
    "ndvi_brazil = np.asarray(Image.open(r\"C:\\image processing\\brazil\\brazil bands\\ndvi_brazil.tif\")).flatten()\n",
    "ndbi_brazil = np.asarray(Image.open(r\"C:\\image processing\\brazil\\brazil bands\\ndbi_brazil.tif\")).flatten()\n",
    "ndwi_brazil = np.asarray(Image.open(r\"C:\\image processing\\brazil\\brazil bands\\ndwi_brazil.tif\")).flatten()\n",
    "ndbsi_brazil = np.asarray(Image.open(r\"C:\\image processing\\brazil\\brazil bands\\ndbsi_brazil.tif\")).flatten()\n",
    "\n",
    "for i in range(10980*10980):\n",
    "    for j in range(4):\n",
    "        if j == 0: \n",
    "            data[i][j] = ndvi_brazil[i]\n",
    "        elif j == 1: \n",
    "            data[i][j] = ndbi_brazil[i]\n",
    "        elif j == 2: \n",
    "            data[i][j] = ndwi_brazil[i]\n",
    "        else: \n",
    "            data[i][j] = ndbsi_brazil[i]\n",
    "            \n",
    "    if output[i] == 1: \n",
    "        data[i][4] = 1\n",
    "    elif output[i] == 2: \n",
    "        data[i][5] = 1\n",
    "    elif output[i] == 3: \n",
    "        data[i][6] = 1\n",
    "    else: \n",
    "        data[i][7] = 1    \n",
    "    \n",
    "print(data[-1])\n"
   ]
  },
  {
   "cell_type": "code",
   "execution_count": 2,
   "metadata": {
    "collapsed": true
   },
   "outputs": [],
   "source": [
    "np.random.shuffle(data)\n",
    "\n",
    "xtrain = data[:96448320,:4]\n",
    "ytrain = data[:96448320,4:]\n",
    "\n",
    "xtest = data[96448320:,:4]\n",
    "ytest = data[96448320:,4:]"
   ]
  },
  {
   "cell_type": "code",
   "execution_count": 3,
   "metadata": {},
   "outputs": [
    {
     "name": "stderr",
     "output_type": "stream",
     "text": [
      "Using TensorFlow backend.\n"
     ]
    },
    {
     "name": "stdout",
     "output_type": "stream",
     "text": [
      "Epoch 1/10\n",
      " - 328s - loss: 0.4342 - acc: 0.8174\n",
      "Epoch 2/10\n",
      " - 423s - loss: 0.3142 - acc: 0.8334\n",
      "Epoch 3/10\n",
      " - 450s - loss: 0.3118 - acc: 0.8334\n",
      "Epoch 4/10\n",
      " - 837s - loss: 0.3099 - acc: 0.8335\n",
      "Epoch 5/10\n",
      " - 1232s - loss: 0.3087 - acc: 0.8338\n",
      "Epoch 6/10\n",
      " - 1246s - loss: 0.3070 - acc: 0.8342\n",
      "Epoch 7/10\n",
      " - 1245s - loss: 0.3060 - acc: 0.8343\n",
      "Epoch 8/10\n",
      " - 1245s - loss: 0.3058 - acc: 0.8342\n",
      "Epoch 9/10\n",
      " - 1245s - loss: 0.3073 - acc: 0.8340\n",
      "Epoch 10/10\n",
      " - 1245s - loss: 0.3069 - acc: 0.8341\n",
      "83.70192307692308\n"
     ]
    }
   ],
   "source": [
    "from keras.models import Sequential\n",
    "from keras.layers import Dense\n",
    "#import os\n",
    "#os.environ['KERAS_BACKEND'] = 'tensorflow'\n",
    "import gc\n",
    "\n",
    "model = Sequential()\n",
    "model.add(Dense(4,input_dim=4,activation='tanh'))\n",
    "for i in range(1,1):\n",
    "    model.add(Dense(4,activation='tanh'))\n",
    "\n",
    "model.add(Dense(4,activation='softmax'))\n",
    "model.compile(loss='categorical_crossentropy', optimizer='adam', metrics=['accuracy'])\n",
    "model.fit(xtrain, ytrain, epochs=10, batch_size=100000, verbose=2)\n",
    "scores = model.evaluate(xtest, ytest, verbose=0)\n",
    "print(\"Accuracy : \")\n",
    "print(scores[1]*100)\n",
    "print(\"Garbage collected: \")\n",
    "print(gc.collect())"
   ]
  }
 ],
 "metadata": {
  "kernelspec": {
   "display_name": "Python 3",
   "language": "python",
   "name": "python3"
  },
  "language_info": {
   "codemirror_mode": {
    "name": "ipython",
    "version": 3
   },
   "file_extension": ".py",
   "mimetype": "text/x-python",
   "name": "python",
   "nbconvert_exporter": "python",
   "pygments_lexer": "ipython3",
   "version": "3.6.2"
  }
 },
 "nbformat": 4,
 "nbformat_minor": 2
}
